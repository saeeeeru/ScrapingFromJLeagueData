{
 "cells": [
  {
   "cell_type": "markdown",
   "metadata": {},
   "source": [
    "table of contents\n",
    "1. 検索クエリの調査\n",
    "1. テーブル取得"
   ]
  },
  {
   "cell_type": "code",
   "execution_count": 1,
   "metadata": {},
   "outputs": [],
   "source": [
    "import os\n",
    "\n",
    "import urllib.request\n",
    "from datetime import datetime\n",
    "\n",
    "from bs4 import BeautifulSoup\n",
    "import numpy as np\n",
    "import pandas as pd\n",
    "\n",
    "from selenium import webdriver\n",
    "from selenium.webdriver.chrome.options import Options\n",
    "from selenium.webdriver.support.select import Select\n",
    "from selenium.webdriver.common.by import By\n",
    "from selenium.webdriver.common.keys import Keys\n",
    "from selenium.webdriver.common.alert import Alert\n",
    "from selenium.webdriver.support.ui import WebDriverWait\n",
    "from selenium.webdriver.support import expected_conditions as EC\n",
    "from selenium.common.exceptions import TimeoutException"
   ]
  },
  {
   "cell_type": "code",
   "execution_count": 2,
   "metadata": {},
   "outputs": [],
   "source": [
    "DRIVER_PATH = '/Users/yamamuros83/Documents/Development/Kokudo/chromedriver'"
   ]
  },
  {
   "cell_type": "code",
   "execution_count": 3,
   "metadata": {},
   "outputs": [],
   "source": [
    "URL = 'https://data.j-league.or.jp/SFPR01/'"
   ]
  },
  {
   "cell_type": "markdown",
   "metadata": {},
   "source": [
    "# 検索クエリの調査"
   ]
  },
  {
   "cell_type": "markdown",
   "metadata": {},
   "source": [
    "## ソースの表示"
   ]
  },
  {
   "cell_type": "code",
   "execution_count": 4,
   "metadata": {},
   "outputs": [],
   "source": [
    "data = urllib.request.urlopen(URL)\n",
    "soup = BeautifulSoup(data, \"html\")"
   ]
  },
  {
   "cell_type": "code",
   "execution_count": 5,
   "metadata": {},
   "outputs": [
    {
     "name": "stderr",
     "output_type": "stream",
     "text": [
      "/Users/yamamuros83/.pyenv/versions/anaconda3-5.3.1/envs/py37/lib/python3.7/site-packages/ipykernel_launcher.py:11: DeprecationWarning: use options instead of chrome_options\n",
      "  # This is added back by InteractiveShellApp.init_path()\n"
     ]
    }
   ],
   "source": [
    "# Seleniumをあらゆる環境で起動させるChromeオプション\n",
    "options = Options()\n",
    "options.add_argument('--disable-gpu');\n",
    "options.add_argument('--disable-extensions')\n",
    "options.add_argument('--proxy-server=\"direct://\"')\n",
    "options.add_argument('--proxy-bypass-list=*')\n",
    "options.add_argument('--start-maximized')\n",
    "options.add_argument('--headless')\n",
    "\n",
    "# ブラウザの起動\n",
    "driver = webdriver.Chrome(executable_path=DRIVER_PATH, chrome_options=options)\n",
    "\n",
    "driver.get(URL)"
   ]
  },
  {
   "cell_type": "code",
   "execution_count": 6,
   "metadata": {},
   "outputs": [
    {
     "name": "stdout",
     "output_type": "stream",
     "text": [
      "['2020年', '2019年', '2018年', '2017年', '2016年', '2015年', '2014年']\n"
     ]
    }
   ],
   "source": [
    "selector = Select(driver.find_element_by_name(\"competition_year\"))\n",
    "year_list = [option.text for option in selector.options if option.text != '▼']\n",
    "print(year_list)\n",
    "year = '2016年'\n",
    "selector.select_by_visible_text(year)"
   ]
  },
  {
   "cell_type": "code",
   "execution_count": 7,
   "metadata": {},
   "outputs": [
    {
     "name": "stdout",
     "output_type": "stream",
     "text": [
      "['Ｊ１リーグ', 'Ｊ２リーグ', 'Ｊ３リーグ', 'Ｊサテライトリーグ']\n"
     ]
    }
   ],
   "source": [
    "selector = Select(driver.find_element_by_name('competition_frame_id'))\n",
    "competition_list = [option.text for option in selector.options if option.text != '▼' and option.text.endswith('リーグ')]\n",
    "print(competition_list)\n",
    "competition = competition_list[0]\n",
    "selector.select_by_visible_text(competition)"
   ]
  },
  {
   "cell_type": "code",
   "execution_count": 12,
   "metadata": {},
   "outputs": [
    {
     "name": "stdout",
     "output_type": "stream",
     "text": [
      "['１ｓｔ', '２ｎｄ']\n"
     ]
    }
   ],
   "source": [
    "stage_selector = Select(driver.find_element_by_name('competition_id'))\n",
    "stage_list = [option.text for option in stage_selector.options if option.text != '▼']\n",
    "print(stage_list)\n",
    "\n",
    "stage = stage_list[0]\n",
    "stage_selector.select_by_visible_text(stage)"
   ]
  },
  {
   "cell_type": "code",
   "execution_count": 14,
   "metadata": {},
   "outputs": [
    {
     "name": "stdout",
     "output_type": "stream",
     "text": [
      "['仙台', '鹿島', '浦和', '大宮', '柏', 'FC東京', '川崎Ｆ', '横浜FM', '湘南', '甲府', '新潟', '磐田', '名古屋', 'Ｇ大阪', '神戸', '広島', '福岡', '鳥栖']\n"
     ]
    }
   ],
   "source": [
    "selector = Select(driver.find_element_by_name('team_id'))\n",
    "team_list = [option.text for option in selector.options if option.text != '▼']\n",
    "print(team_list)\n",
    "team = team_list[0]\n",
    "selector.select_by_visible_text(team)"
   ]
  },
  {
   "cell_type": "code",
   "execution_count": 9,
   "metadata": {},
   "outputs": [],
   "source": [
    "wait = WebDriverWait(driver, 10)\n",
    "search_btn = wait.until(EC.element_to_be_clickable((By.ID, 'search')))\n",
    "search_btn.click()"
   ]
  },
  {
   "cell_type": "markdown",
   "metadata": {},
   "source": [
    "# テーブル取得"
   ]
  },
  {
   "cell_type": "code",
   "execution_count": 10,
   "metadata": {},
   "outputs": [],
   "source": [
    "def get_participate_df(year, competition, team, data_dir):\n",
    "    \n",
    "    # 最初に戻るには2回押す\n",
    "    wait = WebDriverWait(driver, 10)\n",
    "    for i in range(2):\n",
    "        prev_btn = wait.until(EC.element_to_be_clickable((By.ID, 'prevBtnB')))\n",
    "        prev_btn.click()\n",
    "    \n",
    "    df_list = list()\n",
    "    for i in range(3):\n",
    "        table = BeautifulSoup(driver.page_source, \"html\").find('table', id='search_result')\n",
    "        # カラム\n",
    "        c_list = [th.text for th in table.find_all('th', 'bg wd02')]\n",
    "        # 試合情報\n",
    "        c_data_array = np.array(\n",
    "            [td.text.replace('\\n', '').replace('\\t', '') \n",
    "             for td in table.find_all(lambda tag: tag.name == 'td' and tag.get('class') == ['bg'])]\n",
    "        ).reshape(-1, len(c_list))\n",
    "        # 出場記録\n",
    "        v_array = np.array(\n",
    "            [td.text.replace('\\n','').replace('\\t','')\n",
    "                 for td in table.find_all(lambda tag: tag.name == 'td' and ((tag.get('class') == ['bd-l'])or(tag.get('class') == None)))]\n",
    "        ).reshape(-1, len(c_list))\n",
    "        # 選手インデックス\n",
    "        index_list = [th.text.replace('\\u3000','') for th in table.find_all('th', 'bd-l sort al-l name-c')]\n",
    "        # dataframe化\n",
    "        df = pd.DataFrame(index=index_list, columns=c_list, data=v_array)\n",
    "        df_list.append(df)\n",
    "        \n",
    "        if i != 3:\n",
    "            next_btn = wait.until(EC.element_to_be_clickable((By.ID, 'nextBtnB')))\n",
    "            next_btn.click()\n",
    "    \n",
    "    # 横に結合\n",
    "    df = pd.concat(df_list, axis=1)\n",
    "    \n",
    "    # ローカル保存\n",
    "    df.to_csv(os.path.join(data_dir, year, competition, f'{team}.csv'))\n",
    "    \n",
    "    home_btn = wait.until(EC.element_to_be_clickable((By.ID, 'back')))\n",
    "    home_btn.click()"
   ]
  },
  {
   "cell_type": "code",
   "execution_count": 13,
   "metadata": {},
   "outputs": [],
   "source": [
    "data_dir = os.path.join('..', 'data')\n",
    "os.makedirs(os.path.join(data_dir, year, competition))\n",
    "get_participate_df(year, competition, team, data_dir)"
   ]
  }
 ],
 "metadata": {
  "kernelspec": {
   "display_name": "Python 3",
   "language": "python",
   "name": "python3"
  },
  "language_info": {
   "codemirror_mode": {
    "name": "ipython",
    "version": 3
   },
   "file_extension": ".py",
   "mimetype": "text/x-python",
   "name": "python",
   "nbconvert_exporter": "python",
   "pygments_lexer": "ipython3",
   "version": "3.7.8"
  }
 },
 "nbformat": 4,
 "nbformat_minor": 4
}
