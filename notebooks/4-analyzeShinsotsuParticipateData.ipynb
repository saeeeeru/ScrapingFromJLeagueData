{
 "cells": [
  {
   "cell_type": "markdown",
   "metadata": {},
   "source": [
    "table of contents\n",
    "1. データの読み込み\n",
    "1. 前処理\n",
    "1. 可視化"
   ]
  },
  {
   "cell_type": "code",
   "execution_count": 1,
   "metadata": {},
   "outputs": [],
   "source": [
    "import os\n",
    "\n",
    "import pandas as pd"
   ]
  },
  {
   "cell_type": "code",
   "execution_count": 2,
   "metadata": {},
   "outputs": [],
   "source": [
    "data_dir = os.path.join('..', 'data')"
   ]
  },
  {
   "cell_type": "markdown",
   "metadata": {},
   "source": [
    "# データの読み込み"
   ]
  },
  {
   "cell_type": "markdown",
   "metadata": {},
   "source": [
    "## 新卒マスタ"
   ]
  },
  {
   "cell_type": "code",
   "execution_count": 3,
   "metadata": {},
   "outputs": [],
   "source": [
    "mst_df = pd.read_csv(os.path.join(data_dir, 'shinsotsu-player.csv'))"
   ]
  },
  {
   "cell_type": "code",
   "execution_count": 4,
   "metadata": {},
   "outputs": [
    {
     "data": {
      "text/html": [
       "<div>\n",
       "<style scoped>\n",
       "    .dataframe tbody tr th:only-of-type {\n",
       "        vertical-align: middle;\n",
       "    }\n",
       "\n",
       "    .dataframe tbody tr th {\n",
       "        vertical-align: top;\n",
       "    }\n",
       "\n",
       "    .dataframe thead th {\n",
       "        text-align: right;\n",
       "    }\n",
       "</style>\n",
       "<table border=\"1\" class=\"dataframe\">\n",
       "  <thead>\n",
       "    <tr style=\"text-align: right;\">\n",
       "      <th></th>\n",
       "      <th>player_name</th>\n",
       "      <th>from_team_name</th>\n",
       "      <th>年度</th>\n",
       "      <th>competition</th>\n",
       "    </tr>\n",
       "  </thead>\n",
       "  <tbody>\n",
       "    <tr>\n",
       "      <th>0</th>\n",
       "      <td>茂木駿佑</td>\n",
       "      <td>仙台ユース</td>\n",
       "      <td>2015年</td>\n",
       "      <td>Ｊ１リーグ</td>\n",
       "    </tr>\n",
       "    <tr>\n",
       "      <th>1</th>\n",
       "      <td>西村拓真</td>\n",
       "      <td>富山第一高</td>\n",
       "      <td>2015年</td>\n",
       "      <td>Ｊ１リーグ</td>\n",
       "    </tr>\n",
       "    <tr>\n",
       "      <th>2</th>\n",
       "      <td>摂津颯登</td>\n",
       "      <td>山形ユース</td>\n",
       "      <td>2015年</td>\n",
       "      <td>Ｊ１リーグ</td>\n",
       "    </tr>\n",
       "    <tr>\n",
       "      <th>3</th>\n",
       "      <td>高木利弥</td>\n",
       "      <td>神奈川大</td>\n",
       "      <td>2015年</td>\n",
       "      <td>Ｊ１リーグ</td>\n",
       "    </tr>\n",
       "    <tr>\n",
       "      <th>4</th>\n",
       "      <td>大橋尚志</td>\n",
       "      <td>鹿島ユース</td>\n",
       "      <td>2015年</td>\n",
       "      <td>Ｊ１リーグ</td>\n",
       "    </tr>\n",
       "  </tbody>\n",
       "</table>\n",
       "</div>"
      ],
      "text/plain": [
       "  player_name from_team_name     年度 competition\n",
       "0        茂木駿佑          仙台ユース  2015年       Ｊ１リーグ\n",
       "1        西村拓真          富山第一高  2015年       Ｊ１リーグ\n",
       "2        摂津颯登          山形ユース  2015年       Ｊ１リーグ\n",
       "3        高木利弥           神奈川大  2015年       Ｊ１リーグ\n",
       "4        大橋尚志          鹿島ユース  2015年       Ｊ１リーグ"
      ]
     },
     "execution_count": 4,
     "metadata": {},
     "output_type": "execute_result"
    }
   ],
   "source": [
    "mst_df.head()"
   ]
  },
  {
   "cell_type": "code",
   "execution_count": 5,
   "metadata": {},
   "outputs": [
    {
     "data": {
      "text/html": [
       "<style  type=\"text/css\" >\n",
       "#T_d7c63044_f71d_11ea_aaa4_acde48001122row0_col0,#T_d7c63044_f71d_11ea_aaa4_acde48001122row1_col2,#T_d7c63044_f71d_11ea_aaa4_acde48001122row2_col2{\n",
       "            background-color:  #a4da9e;\n",
       "            color:  #000000;\n",
       "        }#T_d7c63044_f71d_11ea_aaa4_acde48001122row0_col1{\n",
       "            background-color:  #00692a;\n",
       "            color:  #f1f1f1;\n",
       "        }#T_d7c63044_f71d_11ea_aaa4_acde48001122row0_col2{\n",
       "            background-color:  #b2e0ac;\n",
       "            color:  #000000;\n",
       "        }#T_d7c63044_f71d_11ea_aaa4_acde48001122row1_col0{\n",
       "            background-color:  #4eb264;\n",
       "            color:  #000000;\n",
       "        }#T_d7c63044_f71d_11ea_aaa4_acde48001122row1_col1{\n",
       "            background-color:  #c1e6ba;\n",
       "            color:  #000000;\n",
       "        }#T_d7c63044_f71d_11ea_aaa4_acde48001122row2_col0,#T_d7c63044_f71d_11ea_aaa4_acde48001122row4_col0{\n",
       "            background-color:  #84cc83;\n",
       "            color:  #000000;\n",
       "        }#T_d7c63044_f71d_11ea_aaa4_acde48001122row2_col1{\n",
       "            background-color:  #339c52;\n",
       "            color:  #000000;\n",
       "        }#T_d7c63044_f71d_11ea_aaa4_acde48001122row3_col0{\n",
       "            background-color:  #39a257;\n",
       "            color:  #000000;\n",
       "        }#T_d7c63044_f71d_11ea_aaa4_acde48001122row3_col1{\n",
       "            background-color:  #228a44;\n",
       "            color:  #000000;\n",
       "        }#T_d7c63044_f71d_11ea_aaa4_acde48001122row3_col2{\n",
       "            background-color:  #f7fcf5;\n",
       "            color:  #000000;\n",
       "        }#T_d7c63044_f71d_11ea_aaa4_acde48001122row4_col1{\n",
       "            background-color:  #00441b;\n",
       "            color:  #f1f1f1;\n",
       "        }#T_d7c63044_f71d_11ea_aaa4_acde48001122row4_col2{\n",
       "            background-color:  #73c476;\n",
       "            color:  #000000;\n",
       "        }#T_d7c63044_f71d_11ea_aaa4_acde48001122row5_col0,#T_d7c63044_f71d_11ea_aaa4_acde48001122row5_col2{\n",
       "            background-color:  #107a37;\n",
       "            color:  #f1f1f1;\n",
       "        }#T_d7c63044_f71d_11ea_aaa4_acde48001122row5_col1{\n",
       "            background-color:  #005221;\n",
       "            color:  #f1f1f1;\n",
       "        }</style><table id=\"T_d7c63044_f71d_11ea_aaa4_acde48001122\" ><thead>    <tr>        <th class=\"index_name level0\" >competition</th>        <th class=\"col_heading level0 col0\" >Ｊ１リーグ</th>        <th class=\"col_heading level0 col1\" >Ｊ２リーグ</th>        <th class=\"col_heading level0 col2\" >Ｊ３リーグ</th>    </tr>    <tr>        <th class=\"index_name level0\" >年度</th>        <th class=\"blank\" ></th>        <th class=\"blank\" ></th>        <th class=\"blank\" ></th>    </tr></thead><tbody>\n",
       "                <tr>\n",
       "                        <th id=\"T_d7c63044_f71d_11ea_aaa4_acde48001122level0_row0\" class=\"row_heading level0 row0\" >2015年</th>\n",
       "                        <td id=\"T_d7c63044_f71d_11ea_aaa4_acde48001122row0_col0\" class=\"data row0 col0\" >44</td>\n",
       "                        <td id=\"T_d7c63044_f71d_11ea_aaa4_acde48001122row0_col1\" class=\"data row0 col1\" >67</td>\n",
       "                        <td id=\"T_d7c63044_f71d_11ea_aaa4_acde48001122row0_col2\" class=\"data row0 col2\" >42</td>\n",
       "            </tr>\n",
       "            <tr>\n",
       "                        <th id=\"T_d7c63044_f71d_11ea_aaa4_acde48001122level0_row1\" class=\"row_heading level0 row1\" >2016年</th>\n",
       "                        <td id=\"T_d7c63044_f71d_11ea_aaa4_acde48001122row1_col0\" class=\"data row1 col0\" >54</td>\n",
       "                        <td id=\"T_d7c63044_f71d_11ea_aaa4_acde48001122row1_col1\" class=\"data row1 col1\" >40</td>\n",
       "                        <td id=\"T_d7c63044_f71d_11ea_aaa4_acde48001122row1_col2\" class=\"data row1 col2\" >44</td>\n",
       "            </tr>\n",
       "            <tr>\n",
       "                        <th id=\"T_d7c63044_f71d_11ea_aaa4_acde48001122level0_row2\" class=\"row_heading level0 row2\" >2017年</th>\n",
       "                        <td id=\"T_d7c63044_f71d_11ea_aaa4_acde48001122row2_col0\" class=\"data row2 col0\" >48</td>\n",
       "                        <td id=\"T_d7c63044_f71d_11ea_aaa4_acde48001122row2_col1\" class=\"data row2 col1\" >58</td>\n",
       "                        <td id=\"T_d7c63044_f71d_11ea_aaa4_acde48001122row2_col2\" class=\"data row2 col2\" >44</td>\n",
       "            </tr>\n",
       "            <tr>\n",
       "                        <th id=\"T_d7c63044_f71d_11ea_aaa4_acde48001122level0_row3\" class=\"row_heading level0 row3\" >2018年</th>\n",
       "                        <td id=\"T_d7c63044_f71d_11ea_aaa4_acde48001122row3_col0\" class=\"data row3 col0\" >57</td>\n",
       "                        <td id=\"T_d7c63044_f71d_11ea_aaa4_acde48001122row3_col1\" class=\"data row3 col1\" >61</td>\n",
       "                        <td id=\"T_d7c63044_f71d_11ea_aaa4_acde48001122row3_col2\" class=\"data row3 col2\" >28</td>\n",
       "            </tr>\n",
       "            <tr>\n",
       "                        <th id=\"T_d7c63044_f71d_11ea_aaa4_acde48001122level0_row4\" class=\"row_heading level0 row4\" >2019年</th>\n",
       "                        <td id=\"T_d7c63044_f71d_11ea_aaa4_acde48001122row4_col0\" class=\"data row4 col0\" >48</td>\n",
       "                        <td id=\"T_d7c63044_f71d_11ea_aaa4_acde48001122row4_col1\" class=\"data row4 col1\" >72</td>\n",
       "                        <td id=\"T_d7c63044_f71d_11ea_aaa4_acde48001122row4_col2\" class=\"data row4 col2\" >50</td>\n",
       "            </tr>\n",
       "            <tr>\n",
       "                        <th id=\"T_d7c63044_f71d_11ea_aaa4_acde48001122level0_row5\" class=\"row_heading level0 row5\" >2020年</th>\n",
       "                        <td id=\"T_d7c63044_f71d_11ea_aaa4_acde48001122row5_col0\" class=\"data row5 col0\" >64</td>\n",
       "                        <td id=\"T_d7c63044_f71d_11ea_aaa4_acde48001122row5_col1\" class=\"data row5 col1\" >70</td>\n",
       "                        <td id=\"T_d7c63044_f71d_11ea_aaa4_acde48001122row5_col2\" class=\"data row5 col2\" >64</td>\n",
       "            </tr>\n",
       "    </tbody></table>"
      ],
      "text/plain": [
       "<pandas.io.formats.style.Styler at 0x1358bf2d0>"
      ]
     },
     "execution_count": 5,
     "metadata": {},
     "output_type": "execute_result"
    }
   ],
   "source": [
    "pivoted_df = pd.pivot(mst_df.groupby(['年度', 'competition'], as_index=False).agg(n_player_total=('player_name', 'nunique')), index='年度', columns='competition', values='n_player_total')\n",
    "\n",
    "pivoted_df.style.background_gradient(cmap='Greens', vmin=pivoted_df.min().min(), vmax=pivoted_df.max().max())"
   ]
  },
  {
   "cell_type": "markdown",
   "metadata": {},
   "source": [
    "## 出場時間データ"
   ]
  },
  {
   "cell_type": "code",
   "execution_count": 7,
   "metadata": {},
   "outputs": [],
   "source": [
    "df_list = list()\n",
    "for year in mst_df['年度'].unique():\n",
    "    if year in ['2015年', '2016年']:\n",
    "        continue\n",
    "    competiiton = 'Ｊ１リーグ'\n",
    "    data_dir_tmp = os.path.join(data_dir, year, competiiton)\n",
    "    mst_df_tmp = mst_df[(mst_df['年度']==year)&(mst_df['competition']==competiiton)]\n",
    "    for infile in os.listdir(data_dir_tmp):\n",
    "        df = pd.read_csv(os.path.join(data_dir_tmp, infile), index_col=0)\n",
    "        unpivoted_df = pd.melt(df[df.index.isin(mst_df_tmp.player_name.tolist())], ignore_index=False).reset_index()\n",
    "        unpivoted_df.columns = ['player_name', '節', 'value']\n",
    "        unpivoted_df['to_team_name'] = infile.split('.')[0]\n",
    "        df_tmp = pd.merge(unpivoted_df, mst_df_tmp, on='player_name', how='left')\n",
    "        df_list.append(df_tmp)\n",
    "        \n",
    "df = pd.concat(df_list)"
   ]
  },
  {
   "cell_type": "markdown",
   "metadata": {},
   "source": [
    "# 前処理"
   ]
  },
  {
   "cell_type": "code",
   "execution_count": 8,
   "metadata": {},
   "outputs": [],
   "source": [
    "mst_df_tmp = mst_df[mst_df['competition']==competiiton]\n",
    "merged_df = pd.merge(mst_df_tmp[mst_df_tmp['年度'].isin(['2017年', '2018年', '2019年', '2020年'])], df[['年度', 'player_name', 'to_team_name']].drop_duplicates(), on=['年度', 'player_name'], how='left', indicator=True)\n",
    "\n",
    "agg_df = pd.merge(\n",
    "        merged_df[merged_df._merge=='left_only'].groupby('年度', as_index=False).agg(n_player_zero=('player_name', 'nunique'))\n",
    "        , pd.merge(\n",
    "            df.groupby('年度', as_index=False).agg(n_player_not_zero=('player_name', 'nunique'))\n",
    "            , mst_df_tmp.groupby('年度', as_index=False).agg(n_player_total=('player_name', 'nunique'))\n",
    "            , on='年度'\n",
    "        )\n",
    "        , on='年度'\n",
    "    )\n",
    "\n",
    "agg_df['percentage'] = agg_df.n_player_not_zero / agg_df.n_player_total * 100"
   ]
  },
  {
   "cell_type": "code",
   "execution_count": 9,
   "metadata": {},
   "outputs": [
    {
     "data": {
      "text/html": [
       "<style  type=\"text/css\" >\n",
       "#T_0493859a_f71e_11ea_aaa4_acde48001122row0_col2{\n",
       "            background-color:  #f7fcf5;\n",
       "            color:  #000000;\n",
       "        }#T_0493859a_f71e_11ea_aaa4_acde48001122row1_col2{\n",
       "            background-color:  #91d28e;\n",
       "            color:  #000000;\n",
       "        }#T_0493859a_f71e_11ea_aaa4_acde48001122row2_col2{\n",
       "            background-color:  #00441b;\n",
       "            color:  #f1f1f1;\n",
       "        }#T_0493859a_f71e_11ea_aaa4_acde48001122row3_col2{\n",
       "            background-color:  #00692a;\n",
       "            color:  #f1f1f1;\n",
       "        }</style><table id=\"T_0493859a_f71e_11ea_aaa4_acde48001122\" ><thead>    <tr>        <th class=\"blank level0\" ></th>        <th class=\"col_heading level0 col0\" >n_player_not_zero</th>        <th class=\"col_heading level0 col1\" >n_player_total</th>        <th class=\"col_heading level0 col2\" >percentage</th>    </tr>    <tr>        <th class=\"index_name level0\" >年度</th>        <th class=\"blank\" ></th>        <th class=\"blank\" ></th>        <th class=\"blank\" ></th>    </tr></thead><tbody>\n",
       "                <tr>\n",
       "                        <th id=\"T_0493859a_f71e_11ea_aaa4_acde48001122level0_row0\" class=\"row_heading level0 row0\" >2017年</th>\n",
       "                        <td id=\"T_0493859a_f71e_11ea_aaa4_acde48001122row0_col0\" class=\"data row0 col0\" >24</td>\n",
       "                        <td id=\"T_0493859a_f71e_11ea_aaa4_acde48001122row0_col1\" class=\"data row0 col1\" >48</td>\n",
       "                        <td id=\"T_0493859a_f71e_11ea_aaa4_acde48001122row0_col2\" class=\"data row0 col2\" >50.000000</td>\n",
       "            </tr>\n",
       "            <tr>\n",
       "                        <th id=\"T_0493859a_f71e_11ea_aaa4_acde48001122level0_row1\" class=\"row_heading level0 row1\" >2018年</th>\n",
       "                        <td id=\"T_0493859a_f71e_11ea_aaa4_acde48001122row1_col0\" class=\"data row1 col0\" >34</td>\n",
       "                        <td id=\"T_0493859a_f71e_11ea_aaa4_acde48001122row1_col1\" class=\"data row1 col1\" >57</td>\n",
       "                        <td id=\"T_0493859a_f71e_11ea_aaa4_acde48001122row1_col2\" class=\"data row1 col2\" >59.649123</td>\n",
       "            </tr>\n",
       "            <tr>\n",
       "                        <th id=\"T_0493859a_f71e_11ea_aaa4_acde48001122level0_row2\" class=\"row_heading level0 row2\" >2019年</th>\n",
       "                        <td id=\"T_0493859a_f71e_11ea_aaa4_acde48001122row2_col0\" class=\"data row2 col0\" >35</td>\n",
       "                        <td id=\"T_0493859a_f71e_11ea_aaa4_acde48001122row2_col1\" class=\"data row2 col1\" >48</td>\n",
       "                        <td id=\"T_0493859a_f71e_11ea_aaa4_acde48001122row2_col2\" class=\"data row2 col2\" >72.916667</td>\n",
       "            </tr>\n",
       "            <tr>\n",
       "                        <th id=\"T_0493859a_f71e_11ea_aaa4_acde48001122level0_row3\" class=\"row_heading level0 row3\" >2020年</th>\n",
       "                        <td id=\"T_0493859a_f71e_11ea_aaa4_acde48001122row3_col0\" class=\"data row3 col0\" >45</td>\n",
       "                        <td id=\"T_0493859a_f71e_11ea_aaa4_acde48001122row3_col1\" class=\"data row3 col1\" >64</td>\n",
       "                        <td id=\"T_0493859a_f71e_11ea_aaa4_acde48001122row3_col2\" class=\"data row3 col2\" >70.312500</td>\n",
       "            </tr>\n",
       "    </tbody></table>"
      ],
      "text/plain": [
       "<pandas.io.formats.style.Styler at 0x137189c90>"
      ]
     },
     "execution_count": 9,
     "metadata": {},
     "output_type": "execute_result"
    }
   ],
   "source": [
    "agg_df.set_index('年度').iloc[:, 1:].style.background_gradient(cmap='Greens', subset='percentage')"
   ]
  }
 ],
 "metadata": {
  "kernelspec": {
   "display_name": "Python 3",
   "language": "python",
   "name": "python3"
  },
  "language_info": {
   "codemirror_mode": {
    "name": "ipython",
    "version": 3
   },
   "file_extension": ".py",
   "mimetype": "text/x-python",
   "name": "python",
   "nbconvert_exporter": "python",
   "pygments_lexer": "ipython3",
   "version": "3.7.8"
  }
 },
 "nbformat": 4,
 "nbformat_minor": 4
}
