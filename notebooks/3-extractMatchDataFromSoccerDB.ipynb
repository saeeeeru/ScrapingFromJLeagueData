{
 "cells": [
  {
   "cell_type": "markdown",
   "metadata": {},
   "source": [
    "table of contents\n",
    "1. データ取得"
   ]
  },
  {
   "cell_type": "code",
   "execution_count": 1,
   "metadata": {},
   "outputs": [],
   "source": [
    "import os\n",
    "\n",
    "import urllib.request\n",
    "from datetime import datetime\n",
    "\n",
    "from bs4 import BeautifulSoup\n",
    "import numpy as np\n",
    "import pandas as pd"
   ]
  },
  {
   "cell_type": "markdown",
   "metadata": {},
   "source": [
    "# テーブル取得"
   ]
  },
  {
   "cell_type": "code",
   "execution_count": 2,
   "metadata": {},
   "outputs": [],
   "source": [
    "df_list = list()\n",
    "for year in [2015+i for i in range(6)]:\n",
    "    for i in range(1,4):\n",
    "        url = f'https://soccer-db.net/contents/{year}_j{i}_newcomers.php' if i >= 2 else f'https://soccer-db.net/contents/{year}_j_newcomers.php'\n",
    "        data = urllib.request.urlopen(url)\n",
    "        soup = BeautifulSoup(data, \"html\")\n",
    "\n",
    "        if year <= 2016:\n",
    "            player_name_list = [div.text.replace(' ', '') for div in soup.find_all('div', 'mini_jpn_title')]\n",
    "        else:\n",
    "            player_name_list = [span.text.replace(' ', '') for span in soup.find_all('span', 'gt_j')]\n",
    "\n",
    "        team_name_list = [td.text for td in soup.find_all('td') if td.get('width')=='30%']\n",
    "        df = pd.DataFrame(data={'player_name':player_name_list, 'from_team_name':team_name_list})\n",
    "        df['年度'] = f'{year}年'; df['competition'] = f'J{i}リーグ'.translate(str.maketrans({chr(0x0021 + i): chr(0xFF01 + i) for i in range(94)}))\n",
    "        df_list.append(df)\n",
    "    \n",
    "df = pd.concat(df_list)"
   ]
  },
  {
   "cell_type": "code",
   "execution_count": 3,
   "metadata": {},
   "outputs": [
    {
     "data": {
      "text/html": [
       "<div>\n",
       "<style scoped>\n",
       "    .dataframe tbody tr th:only-of-type {\n",
       "        vertical-align: middle;\n",
       "    }\n",
       "\n",
       "    .dataframe tbody tr th {\n",
       "        vertical-align: top;\n",
       "    }\n",
       "\n",
       "    .dataframe thead th {\n",
       "        text-align: right;\n",
       "    }\n",
       "</style>\n",
       "<table border=\"1\" class=\"dataframe\">\n",
       "  <thead>\n",
       "    <tr style=\"text-align: right;\">\n",
       "      <th></th>\n",
       "      <th>player_name</th>\n",
       "      <th>from_team_name</th>\n",
       "      <th>年度</th>\n",
       "      <th>competition</th>\n",
       "    </tr>\n",
       "  </thead>\n",
       "  <tbody>\n",
       "    <tr>\n",
       "      <th>0</th>\n",
       "      <td>茂木駿佑</td>\n",
       "      <td>仙台ユース</td>\n",
       "      <td>2015年</td>\n",
       "      <td>Ｊ１リーグ</td>\n",
       "    </tr>\n",
       "    <tr>\n",
       "      <th>1</th>\n",
       "      <td>西村拓真</td>\n",
       "      <td>富山第一高</td>\n",
       "      <td>2015年</td>\n",
       "      <td>Ｊ１リーグ</td>\n",
       "    </tr>\n",
       "    <tr>\n",
       "      <th>2</th>\n",
       "      <td>摂津颯登</td>\n",
       "      <td>山形ユース</td>\n",
       "      <td>2015年</td>\n",
       "      <td>Ｊ１リーグ</td>\n",
       "    </tr>\n",
       "    <tr>\n",
       "      <th>3</th>\n",
       "      <td>高木利弥</td>\n",
       "      <td>神奈川大</td>\n",
       "      <td>2015年</td>\n",
       "      <td>Ｊ１リーグ</td>\n",
       "    </tr>\n",
       "    <tr>\n",
       "      <th>4</th>\n",
       "      <td>大橋尚志</td>\n",
       "      <td>鹿島ユース</td>\n",
       "      <td>2015年</td>\n",
       "      <td>Ｊ１リーグ</td>\n",
       "    </tr>\n",
       "  </tbody>\n",
       "</table>\n",
       "</div>"
      ],
      "text/plain": [
       "  player_name from_team_name     年度 competition\n",
       "0        茂木駿佑          仙台ユース  2015年       Ｊ１リーグ\n",
       "1        西村拓真          富山第一高  2015年       Ｊ１リーグ\n",
       "2        摂津颯登          山形ユース  2015年       Ｊ１リーグ\n",
       "3        高木利弥           神奈川大  2015年       Ｊ１リーグ\n",
       "4        大橋尚志          鹿島ユース  2015年       Ｊ１リーグ"
      ]
     },
     "execution_count": 3,
     "metadata": {},
     "output_type": "execute_result"
    }
   ],
   "source": [
    "df.head()"
   ]
  },
  {
   "cell_type": "code",
   "execution_count": 4,
   "metadata": {},
   "outputs": [],
   "source": [
    "df.to_csv(os.path.join('..', 'data', 'shinsotsu-player.csv'), index=False)"
   ]
  }
 ],
 "metadata": {
  "kernelspec": {
   "display_name": "Python 3",
   "language": "python",
   "name": "python3"
  },
  "language_info": {
   "codemirror_mode": {
    "name": "ipython",
    "version": 3
   },
   "file_extension": ".py",
   "mimetype": "text/x-python",
   "name": "python",
   "nbconvert_exporter": "python",
   "pygments_lexer": "ipython3",
   "version": "3.7.8"
  }
 },
 "nbformat": 4,
 "nbformat_minor": 4
}
